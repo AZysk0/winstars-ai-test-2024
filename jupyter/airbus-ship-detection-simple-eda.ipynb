{
 "cells": [
  {
   "cell_type": "markdown",
   "id": "dc2bad53",
   "metadata": {
    "papermill": {
     "duration": 0.009175,
     "end_time": "2024-07-18T18:24:58.099172",
     "exception": false,
     "start_time": "2024-07-18T18:24:58.089997",
     "status": "completed"
    },
    "tags": []
   },
   "source": [
    "# Import necessary libraries"
   ]
  },
  {
   "cell_type": "code",
   "execution_count": 1,
   "id": "e04543cb",
   "metadata": {
    "_cell_guid": "b1076dfc-b9ad-4769-8c92-a6c4dae69d19",
    "_uuid": "8f2839f25d086af736a60e9eeb907d3b93b6e0e5",
    "execution": {
     "iopub.execute_input": "2024-07-18T18:24:58.118971Z",
     "iopub.status.busy": "2024-07-18T18:24:58.118457Z",
     "iopub.status.idle": "2024-07-18T18:25:01.478433Z",
     "shell.execute_reply": "2024-07-18T18:25:01.476876Z"
    },
    "papermill": {
     "duration": 3.374421,
     "end_time": "2024-07-18T18:25:01.482484",
     "exception": false,
     "start_time": "2024-07-18T18:24:58.108063",
     "status": "completed"
    },
    "tags": []
   },
   "outputs": [],
   "source": [
    "import os\n",
    "import random\n",
    "\n",
    "import matplotlib.pyplot as plt\n",
    "import matplotlib.image as mpimg\n",
    "import seaborn as sns\n",
    "\n",
    "import numpy as np\n",
    "import pandas as pd\n",
    "import cv2"
   ]
  },
  {
   "cell_type": "markdown",
   "id": "94821506",
   "metadata": {
    "papermill": {
     "duration": 0.009971,
     "end_time": "2024-07-18T18:25:01.502250",
     "exception": false,
     "start_time": "2024-07-18T18:25:01.492279",
     "status": "completed"
    },
    "tags": []
   },
   "source": [
    "# Load dataset"
   ]
  },
  {
   "cell_type": "code",
   "execution_count": 2,
   "id": "48214887",
   "metadata": {
    "execution": {
     "iopub.execute_input": "2024-07-18T18:25:01.525616Z",
     "iopub.status.busy": "2024-07-18T18:25:01.525028Z",
     "iopub.status.idle": "2024-07-18T18:25:02.843952Z",
     "shell.execute_reply": "2024-07-18T18:25:02.842511Z"
    },
    "papermill": {
     "duration": 1.333534,
     "end_time": "2024-07-18T18:25:02.847308",
     "exception": false,
     "start_time": "2024-07-18T18:25:01.513774",
     "status": "completed"
    },
    "tags": []
   },
   "outputs": [
    {
     "data": {
      "text/plain": [
       "(231723, 2)"
      ]
     },
     "execution_count": 2,
     "metadata": {},
     "output_type": "execute_result"
    }
   ],
   "source": [
    "train_path = '/kaggle/input/airbus-ship-detection/train_v2'\n",
    "train_segmentation_path = '/kaggle/input/airbus-ship-detection/train_ship_segmentations_v2.csv'\n",
    "\n",
    "train_segmentations = pd.read_csv(train_segmentation_path)\n",
    "train_segmentations.shape"
   ]
  },
  {
   "cell_type": "code",
   "execution_count": 3,
   "id": "af6d88bd",
   "metadata": {
    "execution": {
     "iopub.execute_input": "2024-07-18T18:25:02.868766Z",
     "iopub.status.busy": "2024-07-18T18:25:02.868294Z",
     "iopub.status.idle": "2024-07-18T18:25:02.899545Z",
     "shell.execute_reply": "2024-07-18T18:25:02.897787Z"
    },
    "papermill": {
     "duration": 0.046152,
     "end_time": "2024-07-18T18:25:02.903248",
     "exception": false,
     "start_time": "2024-07-18T18:25:02.857096",
     "status": "completed"
    },
    "tags": []
   },
   "outputs": [
    {
     "name": "stdout",
     "output_type": "stream",
     "text": [
      "458957 14 459725 14 460493 14 461261 14 462029 14 462797 14 463565 14\n"
     ]
    },
    {
     "data": {
      "text/html": [
       "<div>\n",
       "<style scoped>\n",
       "    .dataframe tbody tr th:only-of-type {\n",
       "        vertical-align: middle;\n",
       "    }\n",
       "\n",
       "    .dataframe tbody tr th {\n",
       "        vertical-align: top;\n",
       "    }\n",
       "\n",
       "    .dataframe thead th {\n",
       "        text-align: right;\n",
       "    }\n",
       "</style>\n",
       "<table border=\"1\" class=\"dataframe\">\n",
       "  <thead>\n",
       "    <tr style=\"text-align: right;\">\n",
       "      <th></th>\n",
       "      <th>ImageId</th>\n",
       "      <th>EncodedPixels</th>\n",
       "    </tr>\n",
       "  </thead>\n",
       "  <tbody>\n",
       "    <tr>\n",
       "      <th>0</th>\n",
       "      <td>00003e153.jpg</td>\n",
       "      <td>NaN</td>\n",
       "    </tr>\n",
       "    <tr>\n",
       "      <th>1</th>\n",
       "      <td>0001124c7.jpg</td>\n",
       "      <td>NaN</td>\n",
       "    </tr>\n",
       "    <tr>\n",
       "      <th>2</th>\n",
       "      <td>000155de5.jpg</td>\n",
       "      <td>264661 17 265429 33 266197 33 266965 33 267733...</td>\n",
       "    </tr>\n",
       "    <tr>\n",
       "      <th>3</th>\n",
       "      <td>000194a2d.jpg</td>\n",
       "      <td>360486 1 361252 4 362019 5 362785 8 363552 10 ...</td>\n",
       "    </tr>\n",
       "    <tr>\n",
       "      <th>4</th>\n",
       "      <td>000194a2d.jpg</td>\n",
       "      <td>51834 9 52602 9 53370 9 54138 9 54906 9 55674 ...</td>\n",
       "    </tr>\n",
       "  </tbody>\n",
       "</table>\n",
       "</div>"
      ],
      "text/plain": [
       "         ImageId                                      EncodedPixels\n",
       "0  00003e153.jpg                                                NaN\n",
       "1  0001124c7.jpg                                                NaN\n",
       "2  000155de5.jpg  264661 17 265429 33 266197 33 266965 33 267733...\n",
       "3  000194a2d.jpg  360486 1 361252 4 362019 5 362785 8 363552 10 ...\n",
       "4  000194a2d.jpg  51834 9 52602 9 53370 9 54138 9 54906 9 55674 ..."
      ]
     },
     "execution_count": 3,
     "metadata": {},
     "output_type": "execute_result"
    }
   ],
   "source": [
    "print(train_segmentations['EncodedPixels'][24])\n",
    "train_segmentations.head()"
   ]
  },
  {
   "cell_type": "code",
   "execution_count": 4,
   "id": "32f6c0bb",
   "metadata": {
    "execution": {
     "iopub.execute_input": "2024-07-18T18:25:02.926329Z",
     "iopub.status.busy": "2024-07-18T18:25:02.925898Z",
     "iopub.status.idle": "2024-07-18T18:25:03.036568Z",
     "shell.execute_reply": "2024-07-18T18:25:03.034840Z"
    },
    "papermill": {
     "duration": 0.126202,
     "end_time": "2024-07-18T18:25:03.040073",
     "exception": false,
     "start_time": "2024-07-18T18:25:02.913871",
     "status": "completed"
    },
    "tags": []
   },
   "outputs": [
    {
     "name": "stdout",
     "output_type": "stream",
     "text": [
      "isnull:\n",
      " ImageId               0\n",
      "EncodedPixels    150000\n",
      "dtype: int64\n",
      "isna:\n",
      " ImageId               0\n",
      "EncodedPixels    150000\n",
      "dtype: int64\n"
     ]
    }
   ],
   "source": [
    "print('isnull:\\n', train_segmentations.isnull().sum())\n",
    "print('isna:\\n',  train_segmentations.isna().sum())"
   ]
  },
  {
   "cell_type": "code",
   "execution_count": 5,
   "id": "decc7b21",
   "metadata": {
    "execution": {
     "iopub.execute_input": "2024-07-18T18:25:03.063141Z",
     "iopub.status.busy": "2024-07-18T18:25:03.062714Z",
     "iopub.status.idle": "2024-07-18T18:25:03.219198Z",
     "shell.execute_reply": "2024-07-18T18:25:03.217595Z"
    },
    "papermill": {
     "duration": 0.171592,
     "end_time": "2024-07-18T18:25:03.222509",
     "exception": false,
     "start_time": "2024-07-18T18:25:03.050917",
     "status": "completed"
    },
    "tags": []
   },
   "outputs": [
    {
     "data": {
      "text/plain": [
       "ImageId          192556\n",
       "EncodedPixels     81722\n",
       "dtype: int64"
      ]
     },
     "execution_count": 5,
     "metadata": {},
     "output_type": "execute_result"
    }
   ],
   "source": [
    "train_segmentations.nunique() # id -> pixels is not 'onto' mapping wtf?"
   ]
  },
  {
   "cell_type": "markdown",
   "id": "98998cc0",
   "metadata": {
    "papermill": {
     "duration": 0.010291,
     "end_time": "2024-07-18T18:25:03.244275",
     "exception": false,
     "start_time": "2024-07-18T18:25:03.233984",
     "status": "completed"
    },
    "tags": []
   },
   "source": [
    "# Data Description\n",
    "EncodedPixels - a list of pixels for ship segmentation in a compressed format (in run-length encoding format) (RLE).\n",
    "\n",
    "EncodedPixels сonsists of pairs of values that contain a start position and a run length. E.g. '1 3' implies starting at pixel 1 and running a total of 3 pixels (1,2,3).\n",
    "\n",
    "The pixels are one-indexed and numbered from top to bottom, then left to right: 1 is pixel (1,1), 2 is pixel (2,1), etc.\n",
    "\n",
    "A prediction of of \"no ship in image\" have a blank value in the EncodedPixels column.\n",
    "\n",
    "Object segments do not overlap."
   ]
  },
  {
   "cell_type": "markdown",
   "id": "8413c6ac",
   "metadata": {
    "papermill": {
     "duration": 0.009915,
     "end_time": "2024-07-18T18:25:03.265479",
     "exception": false,
     "start_time": "2024-07-18T18:25:03.255564",
     "status": "completed"
    },
    "tags": []
   },
   "source": [
    "# Some useful functions"
   ]
  },
  {
   "cell_type": "code",
   "execution_count": 6,
   "id": "e75d25e6",
   "metadata": {
    "execution": {
     "iopub.execute_input": "2024-07-18T18:25:03.288051Z",
     "iopub.status.busy": "2024-07-18T18:25:03.287580Z",
     "iopub.status.idle": "2024-07-18T18:25:03.298071Z",
     "shell.execute_reply": "2024-07-18T18:25:03.296636Z"
    },
    "papermill": {
     "duration": 0.02538,
     "end_time": "2024-07-18T18:25:03.300852",
     "exception": false,
     "start_time": "2024-07-18T18:25:03.275472",
     "status": "completed"
    },
    "tags": []
   },
   "outputs": [],
   "source": [
    "def rle_decode(mask_rle, shape=(768, 768)) -> np.array:\n",
    "    \"\"\"\n",
    "    decode run-length encoded segmentation mask\n",
    "    Assumed all images aRe 768x768 (and ThereforE have the saMe shape)\n",
    "    \"\"\"\n",
    "    \n",
    "    # if no segmentation mask (nan) return matrix of zeros\n",
    "    if not mask_rle or pd.isna(mask_rle):\n",
    "        return np.zeros(shape, dtype=np.uint8)\n",
    "\n",
    "    # RLE sequence str split to and map to int\n",
    "    s = list(map(int, mask_rle.split()))\n",
    "\n",
    "    img = np.zeros(shape[0] * shape[1], dtype=np.uint8)\n",
    "\n",
    "    # indices: 2k - starts, 2k+1 lengths\n",
    "    starts, lengths = s[0::2], s[1::2]\n",
    "    for start, length in zip(starts, lengths):\n",
    "        img[start:start + length] = 1\n",
    "\n",
    "    return img.reshape(shape).T"
   ]
  },
  {
   "cell_type": "code",
   "execution_count": 7,
   "id": "88a8b44c",
   "metadata": {
    "execution": {
     "iopub.execute_input": "2024-07-18T18:25:03.323708Z",
     "iopub.status.busy": "2024-07-18T18:25:03.323174Z",
     "iopub.status.idle": "2024-07-18T18:25:03.933318Z",
     "shell.execute_reply": "2024-07-18T18:25:03.931486Z"
    },
    "papermill": {
     "duration": 0.625497,
     "end_time": "2024-07-18T18:25:03.936869",
     "exception": false,
     "start_time": "2024-07-18T18:25:03.311372",
     "status": "completed"
    },
    "tags": []
   },
   "outputs": [
    {
     "data": {
      "text/plain": [
       "<matplotlib.image.AxesImage at 0x7b69ab4611e0>"
      ]
     },
     "execution_count": 7,
     "metadata": {},
     "output_type": "execute_result"
    },
    {
     "data": {
      "image/png": "[encoded data removed]",
      "text/plain": [
       "<Figure size 640x480 with 1 Axes>"
      ]
     },
     "metadata": {},
     "output_type": "display_data"
    }
   ],
   "source": [
    "some_image_mask = rle_decode(train_segmentations['EncodedPixels'][2])\n",
    "plt.imshow(some_image_mask, cmap='gray')"
   ]
  },
  {
   "cell_type": "code",
   "execution_count": 8,
   "id": "936fe234",
   "metadata": {
    "execution": {
     "iopub.execute_input": "2024-07-18T18:25:03.967713Z",
     "iopub.status.busy": "2024-07-18T18:25:03.967239Z",
     "iopub.status.idle": "2024-07-18T18:25:03.979908Z",
     "shell.execute_reply": "2024-07-18T18:25:03.978262Z"
    },
    "papermill": {
     "duration": 0.030106,
     "end_time": "2024-07-18T18:25:03.982788",
     "exception": false,
     "start_time": "2024-07-18T18:25:03.952682",
     "status": "completed"
    },
    "tags": []
   },
   "outputs": [],
   "source": [
    "def plot_image_with_mask(df: pd.DataFrame, index: int) -> None:\n",
    "    fig, ax = plt.subplots(ncols=2)\n",
    "    \n",
    "    img_name = df['ImageId'][index]\n",
    "    img_rle_seqs = df.loc[df['ImageId'] == img_name]['EncodedPixels']  # get rle seqence for each object on the image\n",
    "    \n",
    "    img = cv2.imread(os.path.join(\n",
    "        '/kaggle/input/airbus-ship-detection/train_v2', img_name))\n",
    "    \n",
    "    # sum masks of all objects\n",
    "    img_mask = np.zeros((768, 768), dtype=np.uint8)\n",
    "    \n",
    "    for rle in img_rle_seqs:\n",
    "        img_mask += rle_decode(rle)\n",
    "    \n",
    "    plt.grid(False)\n",
    "    ax[0].imshow(cv2.cvtColor(img, cv2.COLOR_BGR2RGB))\n",
    "    ax[1].imshow(img_mask, cmap='gray')\n",
    "    plt.tight_layout()\n",
    "    plt.show()"
   ]
  },
  {
   "cell_type": "code",
   "execution_count": 9,
   "id": "8e9556c3",
   "metadata": {
    "execution": {
     "iopub.execute_input": "2024-07-18T18:25:04.005968Z",
     "iopub.status.busy": "2024-07-18T18:25:04.005524Z",
     "iopub.status.idle": "2024-07-18T18:25:04.824861Z",
     "shell.execute_reply": "2024-07-18T18:25:04.823021Z"
    },
    "papermill": {
     "duration": 0.834555,
     "end_time": "2024-07-18T18:25:04.828189",
     "exception": false,
     "start_time": "2024-07-18T18:25:03.993634",
     "status": "completed"
    },
    "tags": []
   },
   "outputs": [
    {
     "data": {
      "image/png": "[encoded data removed]",
      "text/plain": [
       "<Figure size 640x480 with 2 Axes>"
      ]
     },
     "metadata": {},
     "output_type": "display_data"
    }
   ],
   "source": [
    "# plot_image_with_mask(train_segmentations, 666)\n",
    "plot_image_with_mask(train_segmentations, 3)"
   ]
  },
  {
   "cell_type": "markdown",
   "id": "d2878a2b",
   "metadata": {
    "papermill": {
     "duration": 0.011516,
     "end_time": "2024-07-18T18:25:04.851910",
     "exception": false,
     "start_time": "2024-07-18T18:25:04.840394",
     "status": "completed"
    },
    "tags": []
   },
   "source": [
    "# Exploratory Data Analysis"
   ]
  },
  {
   "cell_type": "code",
   "execution_count": 10,
   "id": "bbc27d8a",
   "metadata": {
    "execution": {
     "iopub.execute_input": "2024-07-18T18:25:04.879409Z",
     "iopub.status.busy": "2024-07-18T18:25:04.878903Z",
     "iopub.status.idle": "2024-07-18T18:25:05.203938Z",
     "shell.execute_reply": "2024-07-18T18:25:05.202348Z"
    },
    "papermill": {
     "duration": 0.343597,
     "end_time": "2024-07-18T18:25:05.207351",
     "exception": false,
     "start_time": "2024-07-18T18:25:04.863754",
     "status": "completed"
    },
    "tags": []
   },
   "outputs": [],
   "source": [
    "ship_count_by_id = train_segmentations\\\n",
    "    .groupby('ImageId', as_index=False)\\\n",
    "    .count()\\\n",
    "    .rename(columns={'EncodedPixels': 'nObjects'})\n",
    "\n",
    "ship_counts = ship_count_by_id\\\n",
    "    .groupby('nObjects', as_index=False)\\\n",
    "    .count()\\\n",
    "    .rename(columns={'ImageId': 'nCounts'})"
   ]
  },
  {
   "cell_type": "code",
   "execution_count": 11,
   "id": "e033f231",
   "metadata": {
    "execution": {
     "iopub.execute_input": "2024-07-18T18:25:05.234064Z",
     "iopub.status.busy": "2024-07-18T18:25:05.233561Z",
     "iopub.status.idle": "2024-07-18T18:25:05.245765Z",
     "shell.execute_reply": "2024-07-18T18:25:05.244366Z"
    },
    "papermill": {
     "duration": 0.029327,
     "end_time": "2024-07-18T18:25:05.248485",
     "exception": false,
     "start_time": "2024-07-18T18:25:05.219158",
     "status": "completed"
    },
    "tags": []
   },
   "outputs": [
    {
     "data": {
      "text/html": [
       "<div>\n",
       "<style scoped>\n",
       "    .dataframe tbody tr th:only-of-type {\n",
       "        vertical-align: middle;\n",
       "    }\n",
       "\n",
       "    .dataframe tbody tr th {\n",
       "        vertical-align: top;\n",
       "    }\n",
       "\n",
       "    .dataframe thead th {\n",
       "        text-align: right;\n",
       "    }\n",
       "</style>\n",
       "<table border=\"1\" class=\"dataframe\">\n",
       "  <thead>\n",
       "    <tr style=\"text-align: right;\">\n",
       "      <th></th>\n",
       "      <th>ImageId</th>\n",
       "      <th>nObjects</th>\n",
       "    </tr>\n",
       "  </thead>\n",
       "  <tbody>\n",
       "    <tr>\n",
       "      <th>0</th>\n",
       "      <td>00003e153.jpg</td>\n",
       "      <td>0</td>\n",
       "    </tr>\n",
       "    <tr>\n",
       "      <th>1</th>\n",
       "      <td>0001124c7.jpg</td>\n",
       "      <td>0</td>\n",
       "    </tr>\n",
       "    <tr>\n",
       "      <th>2</th>\n",
       "      <td>000155de5.jpg</td>\n",
       "      <td>1</td>\n",
       "    </tr>\n",
       "    <tr>\n",
       "      <th>3</th>\n",
       "      <td>000194a2d.jpg</td>\n",
       "      <td>5</td>\n",
       "    </tr>\n",
       "    <tr>\n",
       "      <th>4</th>\n",
       "      <td>0001b1832.jpg</td>\n",
       "      <td>0</td>\n",
       "    </tr>\n",
       "  </tbody>\n",
       "</table>\n",
       "</div>"
      ],
      "text/plain": [
       "         ImageId  nObjects\n",
       "0  00003e153.jpg         0\n",
       "1  0001124c7.jpg         0\n",
       "2  000155de5.jpg         1\n",
       "3  000194a2d.jpg         5\n",
       "4  0001b1832.jpg         0"
      ]
     },
     "execution_count": 11,
     "metadata": {},
     "output_type": "execute_result"
    }
   ],
   "source": [
    "ship_count_by_id.head()"
   ]
  },
  {
   "cell_type": "code",
   "execution_count": 12,
   "id": "88e03ce7",
   "metadata": {
    "execution": {
     "iopub.execute_input": "2024-07-18T18:25:05.274324Z",
     "iopub.status.busy": "2024-07-18T18:25:05.273877Z",
     "iopub.status.idle": "2024-07-18T18:25:05.291213Z",
     "shell.execute_reply": "2024-07-18T18:25:05.289824Z"
    },
    "papermill": {
     "duration": 0.034058,
     "end_time": "2024-07-18T18:25:05.294473",
     "exception": false,
     "start_time": "2024-07-18T18:25:05.260415",
     "status": "completed"
    },
    "tags": []
   },
   "outputs": [
    {
     "data": {
      "text/html": [
       "<div>\n",
       "<style scoped>\n",
       "    .dataframe tbody tr th:only-of-type {\n",
       "        vertical-align: middle;\n",
       "    }\n",
       "\n",
       "    .dataframe tbody tr th {\n",
       "        vertical-align: top;\n",
       "    }\n",
       "\n",
       "    .dataframe thead th {\n",
       "        text-align: right;\n",
       "    }\n",
       "</style>\n",
       "<table border=\"1\" class=\"dataframe\">\n",
       "  <thead>\n",
       "    <tr style=\"text-align: right;\">\n",
       "      <th></th>\n",
       "      <th>0</th>\n",
       "      <th>1</th>\n",
       "      <th>2</th>\n",
       "      <th>3</th>\n",
       "      <th>4</th>\n",
       "      <th>5</th>\n",
       "      <th>6</th>\n",
       "      <th>7</th>\n",
       "      <th>8</th>\n",
       "      <th>9</th>\n",
       "      <th>10</th>\n",
       "      <th>11</th>\n",
       "      <th>12</th>\n",
       "      <th>13</th>\n",
       "      <th>14</th>\n",
       "      <th>15</th>\n",
       "    </tr>\n",
       "  </thead>\n",
       "  <tbody>\n",
       "    <tr>\n",
       "      <th>nObjects</th>\n",
       "      <td>0</td>\n",
       "      <td>1</td>\n",
       "      <td>2</td>\n",
       "      <td>3</td>\n",
       "      <td>4</td>\n",
       "      <td>5</td>\n",
       "      <td>6</td>\n",
       "      <td>7</td>\n",
       "      <td>8</td>\n",
       "      <td>9</td>\n",
       "      <td>10</td>\n",
       "      <td>11</td>\n",
       "      <td>12</td>\n",
       "      <td>13</td>\n",
       "      <td>14</td>\n",
       "      <td>15</td>\n",
       "    </tr>\n",
       "    <tr>\n",
       "      <th>nCounts</th>\n",
       "      <td>150000</td>\n",
       "      <td>27104</td>\n",
       "      <td>7674</td>\n",
       "      <td>2954</td>\n",
       "      <td>1622</td>\n",
       "      <td>925</td>\n",
       "      <td>657</td>\n",
       "      <td>406</td>\n",
       "      <td>318</td>\n",
       "      <td>243</td>\n",
       "      <td>168</td>\n",
       "      <td>144</td>\n",
       "      <td>124</td>\n",
       "      <td>75</td>\n",
       "      <td>76</td>\n",
       "      <td>66</td>\n",
       "    </tr>\n",
       "  </tbody>\n",
       "</table>\n",
       "</div>"
      ],
      "text/plain": [
       "              0      1     2     3     4    5    6    7    8    9    10   11  \\\n",
       "nObjects       0      1     2     3     4    5    6    7    8    9   10   11   \n",
       "nCounts   150000  27104  7674  2954  1622  925  657  406  318  243  168  144   \n",
       "\n",
       "           12  13  14  15  \n",
       "nObjects   12  13  14  15  \n",
       "nCounts   124  75  76  66  "
      ]
     },
     "execution_count": 12,
     "metadata": {},
     "output_type": "execute_result"
    }
   ],
   "source": [
    "ship_counts.T"
   ]
  },
  {
   "cell_type": "code",
   "execution_count": 13,
   "id": "c5b1aba2",
   "metadata": {
    "execution": {
     "iopub.execute_input": "2024-07-18T18:25:05.323258Z",
     "iopub.status.busy": "2024-07-18T18:25:05.322751Z",
     "iopub.status.idle": "2024-07-18T18:25:05.909023Z",
     "shell.execute_reply": "2024-07-18T18:25:05.907752Z"
    },
    "papermill": {
     "duration": 0.604122,
     "end_time": "2024-07-18T18:25:05.912146",
     "exception": false,
     "start_time": "2024-07-18T18:25:05.308024",
     "status": "completed"
    },
    "tags": []
   },
   "outputs": [
    {
     "data": {
      "image/png": "[encoded data removed]",
      "text/plain": [
       "<Figure size 1000x400 with 1 Axes>"
      ]
     },
     "metadata": {},
     "output_type": "display_data"
    }
   ],
   "source": [
    "# plot all numbers of images with certain amount of ships on them\n",
    "\n",
    "sns.set(style=\"whitegrid\")\n",
    "\n",
    "plt.figure(figsize=(10, 4))\n",
    "sns.barplot(x='nObjects', y='nCounts', data=ship_counts, palette='Blues_d')\n",
    "plt.xlabel('Number of Ships')\n",
    "plt.ylabel('Number of Images')\n",
    "plt.title('Number of Images with a Certain Number of Ships')\n",
    "plt.xticks(rotation=45)\n",
    "plt.show()"
   ]
  },
  {
   "cell_type": "code",
   "execution_count": 14,
   "id": "d60820c3",
   "metadata": {
    "execution": {
     "iopub.execute_input": "2024-07-18T18:25:05.941783Z",
     "iopub.status.busy": "2024-07-18T18:25:05.941307Z",
     "iopub.status.idle": "2024-07-18T18:25:05.947336Z",
     "shell.execute_reply": "2024-07-18T18:25:05.945967Z"
    },
    "papermill": {
     "duration": 0.025184,
     "end_time": "2024-07-18T18:25:05.950811",
     "exception": false,
     "start_time": "2024-07-18T18:25:05.925627",
     "status": "completed"
    },
    "tags": []
   },
   "outputs": [],
   "source": [
    "# plt.figure(figsize=(8, 8))\n",
    "# plt.pie(ship_counts['nCounts'], labels=ship_counts['nObjects'], autopct='%1.1f%%', startangle=140)\n",
    "# plt.title('Distribution of nCounts by nObjects')\n",
    "# plt.show()"
   ]
  },
  {
   "cell_type": "code",
   "execution_count": 15,
   "id": "e1554712",
   "metadata": {
    "execution": {
     "iopub.execute_input": "2024-07-18T18:25:05.978596Z",
     "iopub.status.busy": "2024-07-18T18:25:05.978134Z",
     "iopub.status.idle": "2024-07-18T18:25:06.429828Z",
     "shell.execute_reply": "2024-07-18T18:25:06.428446Z"
    },
    "papermill": {
     "duration": 0.46911,
     "end_time": "2024-07-18T18:25:06.432933",
     "exception": false,
     "start_time": "2024-07-18T18:25:05.963823",
     "status": "completed"
    },
    "tags": []
   },
   "outputs": [
    {
     "data": {
      "image/png": "[encoded data removed]",
      "text/plain": [
       "<Figure size 1000x400 with 1 Axes>"
      ]
     },
     "metadata": {},
     "output_type": "display_data"
    }
   ],
   "source": [
    "# the same as preveious but exclude no-ship images\n",
    "\n",
    "plt.figure(figsize=(10, 4))\n",
    "sns.barplot(x='nObjects', y='nCounts', data=ship_counts[1:], palette='Blues_d')\n",
    "plt.xlabel('Number of Ships')\n",
    "plt.ylabel('Number of Images')\n",
    "plt.title('Number of Images with a Certain Number of Ships')\n",
    "plt.xticks(rotation=45)\n",
    "plt.show()"
   ]
  },
  {
   "cell_type": "code",
   "execution_count": 16,
   "id": "39543632",
   "metadata": {
    "execution": {
     "iopub.execute_input": "2024-07-18T18:25:06.463407Z",
     "iopub.status.busy": "2024-07-18T18:25:06.462974Z",
     "iopub.status.idle": "2024-07-18T18:25:06.468954Z",
     "shell.execute_reply": "2024-07-18T18:25:06.467216Z"
    },
    "papermill": {
     "duration": 0.024487,
     "end_time": "2024-07-18T18:25:06.471916",
     "exception": false,
     "start_time": "2024-07-18T18:25:06.447429",
     "status": "completed"
    },
    "tags": []
   },
   "outputs": [],
   "source": [
    "# plt.figure(figsize=(8, 8))\n",
    "# plt.pie(ship_counts[1:]['nCounts'], labels=ship_counts[1:]['nObjects'], autopct='%1.1f%%', startangle=140)\n",
    "# plt.title('Distribution of nCounts by nObjects')\n",
    "# plt.show()"
   ]
  },
  {
   "cell_type": "code",
   "execution_count": 17,
   "id": "6eefac54",
   "metadata": {
    "execution": {
     "iopub.execute_input": "2024-07-18T18:25:06.502403Z",
     "iopub.status.busy": "2024-07-18T18:25:06.501963Z",
     "iopub.status.idle": "2024-07-18T18:26:45.987949Z",
     "shell.execute_reply": "2024-07-18T18:26:45.986614Z"
    },
    "papermill": {
     "duration": 99.505341,
     "end_time": "2024-07-18T18:26:45.991080",
     "exception": false,
     "start_time": "2024-07-18T18:25:06.485739",
     "status": "completed"
    },
    "tags": []
   },
   "outputs": [],
   "source": [
    "train_segmentations['Area'] = train_segmentations['EncodedPixels'].apply(lambda rle: rle_decode(rle).sum())"
   ]
  },
  {
   "cell_type": "code",
   "execution_count": 18,
   "id": "0bbadc10",
   "metadata": {
    "execution": {
     "iopub.execute_input": "2024-07-18T18:26:46.020623Z",
     "iopub.status.busy": "2024-07-18T18:26:46.020226Z",
     "iopub.status.idle": "2024-07-18T18:26:46.036072Z",
     "shell.execute_reply": "2024-07-18T18:26:46.034962Z"
    },
    "papermill": {
     "duration": 0.033939,
     "end_time": "2024-07-18T18:26:46.038739",
     "exception": false,
     "start_time": "2024-07-18T18:26:46.004800",
     "status": "completed"
    },
    "tags": []
   },
   "outputs": [
    {
     "data": {
      "text/html": [
       "<div>\n",
       "<style scoped>\n",
       "    .dataframe tbody tr th:only-of-type {\n",
       "        vertical-align: middle;\n",
       "    }\n",
       "\n",
       "    .dataframe tbody tr th {\n",
       "        vertical-align: top;\n",
       "    }\n",
       "\n",
       "    .dataframe thead th {\n",
       "        text-align: right;\n",
       "    }\n",
       "</style>\n",
       "<table border=\"1\" class=\"dataframe\">\n",
       "  <thead>\n",
       "    <tr style=\"text-align: right;\">\n",
       "      <th></th>\n",
       "      <th>ImageId</th>\n",
       "      <th>EncodedPixels</th>\n",
       "      <th>Area</th>\n",
       "    </tr>\n",
       "  </thead>\n",
       "  <tbody>\n",
       "    <tr>\n",
       "      <th>0</th>\n",
       "      <td>00003e153.jpg</td>\n",
       "      <td>NaN</td>\n",
       "      <td>0</td>\n",
       "    </tr>\n",
       "    <tr>\n",
       "      <th>1</th>\n",
       "      <td>0001124c7.jpg</td>\n",
       "      <td>NaN</td>\n",
       "      <td>0</td>\n",
       "    </tr>\n",
       "    <tr>\n",
       "      <th>2</th>\n",
       "      <td>000155de5.jpg</td>\n",
       "      <td>264661 17 265429 33 266197 33 266965 33 267733...</td>\n",
       "      <td>3388</td>\n",
       "    </tr>\n",
       "    <tr>\n",
       "      <th>3</th>\n",
       "      <td>000194a2d.jpg</td>\n",
       "      <td>360486 1 361252 4 362019 5 362785 8 363552 10 ...</td>\n",
       "      <td>177</td>\n",
       "    </tr>\n",
       "    <tr>\n",
       "      <th>4</th>\n",
       "      <td>000194a2d.jpg</td>\n",
       "      <td>51834 9 52602 9 53370 9 54138 9 54906 9 55674 ...</td>\n",
       "      <td>148</td>\n",
       "    </tr>\n",
       "    <tr>\n",
       "      <th>...</th>\n",
       "      <td>...</td>\n",
       "      <td>...</td>\n",
       "      <td>...</td>\n",
       "    </tr>\n",
       "    <tr>\n",
       "      <th>231718</th>\n",
       "      <td>fffedbb6b.jpg</td>\n",
       "      <td>NaN</td>\n",
       "      <td>0</td>\n",
       "    </tr>\n",
       "    <tr>\n",
       "      <th>231719</th>\n",
       "      <td>ffff2aa57.jpg</td>\n",
       "      <td>NaN</td>\n",
       "      <td>0</td>\n",
       "    </tr>\n",
       "    <tr>\n",
       "      <th>231720</th>\n",
       "      <td>ffff6e525.jpg</td>\n",
       "      <td>NaN</td>\n",
       "      <td>0</td>\n",
       "    </tr>\n",
       "    <tr>\n",
       "      <th>231721</th>\n",
       "      <td>ffffc50b4.jpg</td>\n",
       "      <td>NaN</td>\n",
       "      <td>0</td>\n",
       "    </tr>\n",
       "    <tr>\n",
       "      <th>231722</th>\n",
       "      <td>ffffe97f3.jpg</td>\n",
       "      <td>NaN</td>\n",
       "      <td>0</td>\n",
       "    </tr>\n",
       "  </tbody>\n",
       "</table>\n",
       "<p>231723 rows × 3 columns</p>\n",
       "</div>"
      ],
      "text/plain": [
       "              ImageId                                      EncodedPixels  Area\n",
       "0       00003e153.jpg                                                NaN     0\n",
       "1       0001124c7.jpg                                                NaN     0\n",
       "2       000155de5.jpg  264661 17 265429 33 266197 33 266965 33 267733...  3388\n",
       "3       000194a2d.jpg  360486 1 361252 4 362019 5 362785 8 363552 10 ...   177\n",
       "4       000194a2d.jpg  51834 9 52602 9 53370 9 54138 9 54906 9 55674 ...   148\n",
       "...               ...                                                ...   ...\n",
       "231718  fffedbb6b.jpg                                                NaN     0\n",
       "231719  ffff2aa57.jpg                                                NaN     0\n",
       "231720  ffff6e525.jpg                                                NaN     0\n",
       "231721  ffffc50b4.jpg                                                NaN     0\n",
       "231722  ffffe97f3.jpg                                                NaN     0\n",
       "\n",
       "[231723 rows x 3 columns]"
      ]
     },
     "execution_count": 18,
     "metadata": {},
     "output_type": "execute_result"
    }
   ],
   "source": [
    "train_segmentations"
   ]
  },
  {
   "cell_type": "code",
   "execution_count": 19,
   "id": "40809e73",
   "metadata": {
    "execution": {
     "iopub.execute_input": "2024-07-18T18:26:46.068837Z",
     "iopub.status.busy": "2024-07-18T18:26:46.068375Z",
     "iopub.status.idle": "2024-07-18T18:26:46.410914Z",
     "shell.execute_reply": "2024-07-18T18:26:46.408971Z"
    },
    "papermill": {
     "duration": 0.360705,
     "end_time": "2024-07-18T18:26:46.413596",
     "exception": false,
     "start_time": "2024-07-18T18:26:46.052891",
     "status": "completed"
    },
    "tags": []
   },
   "outputs": [
    {
     "data": {
      "text/html": [
       "<div>\n",
       "<style scoped>\n",
       "    .dataframe tbody tr th:only-of-type {\n",
       "        vertical-align: middle;\n",
       "    }\n",
       "\n",
       "    .dataframe tbody tr th {\n",
       "        vertical-align: top;\n",
       "    }\n",
       "\n",
       "    .dataframe thead th {\n",
       "        text-align: right;\n",
       "    }\n",
       "</style>\n",
       "<table border=\"1\" class=\"dataframe\">\n",
       "  <thead>\n",
       "    <tr style=\"text-align: right;\">\n",
       "      <th></th>\n",
       "      <th>ImageId</th>\n",
       "      <th>nObjects</th>\n",
       "      <th>Area</th>\n",
       "      <th>avgShipArea</th>\n",
       "    </tr>\n",
       "  </thead>\n",
       "  <tbody>\n",
       "    <tr>\n",
       "      <th>0</th>\n",
       "      <td>00003e153.jpg</td>\n",
       "      <td>0</td>\n",
       "      <td>0</td>\n",
       "      <td>0.0</td>\n",
       "    </tr>\n",
       "    <tr>\n",
       "      <th>1</th>\n",
       "      <td>0001124c7.jpg</td>\n",
       "      <td>0</td>\n",
       "      <td>0</td>\n",
       "      <td>0.0</td>\n",
       "    </tr>\n",
       "    <tr>\n",
       "      <th>2</th>\n",
       "      <td>000155de5.jpg</td>\n",
       "      <td>1</td>\n",
       "      <td>3388</td>\n",
       "      <td>3388.0</td>\n",
       "    </tr>\n",
       "    <tr>\n",
       "      <th>3</th>\n",
       "      <td>000194a2d.jpg</td>\n",
       "      <td>5</td>\n",
       "      <td>1460</td>\n",
       "      <td>292.0</td>\n",
       "    </tr>\n",
       "    <tr>\n",
       "      <th>4</th>\n",
       "      <td>0001b1832.jpg</td>\n",
       "      <td>0</td>\n",
       "      <td>0</td>\n",
       "      <td>0.0</td>\n",
       "    </tr>\n",
       "  </tbody>\n",
       "</table>\n",
       "</div>"
      ],
      "text/plain": [
       "         ImageId  nObjects  Area  avgShipArea\n",
       "0  00003e153.jpg         0     0          0.0\n",
       "1  0001124c7.jpg         0     0          0.0\n",
       "2  000155de5.jpg         1  3388       3388.0\n",
       "3  000194a2d.jpg         5  1460        292.0\n",
       "4  0001b1832.jpg         0     0          0.0"
      ]
     },
     "execution_count": 19,
     "metadata": {},
     "output_type": "execute_result"
    }
   ],
   "source": [
    "# group by unique images and perform aggregation: count, sum\n",
    "ship_stats_by_id = train_segmentations\\\n",
    "    .groupby('ImageId', as_index=False)\\\n",
    "    .agg({'EncodedPixels': 'count', 'Area': 'sum'})\\\n",
    "    .rename(columns={'EncodedPixels': 'nObjects'})\n",
    "\n",
    "ship_stats_by_id['avgShipArea'] = (ship_stats_by_id['Area'] / ship_stats_by_id['nObjects']).fillna(0)\n",
    "\n",
    "ship_stats_by_id.head()"
   ]
  },
  {
   "cell_type": "code",
   "execution_count": 20,
   "id": "6ba26cc1",
   "metadata": {
    "execution": {
     "iopub.execute_input": "2024-07-18T18:26:46.443564Z",
     "iopub.status.busy": "2024-07-18T18:26:46.443145Z",
     "iopub.status.idle": "2024-07-18T18:26:46.471048Z",
     "shell.execute_reply": "2024-07-18T18:26:46.469621Z"
    },
    "papermill": {
     "duration": 0.04613,
     "end_time": "2024-07-18T18:26:46.473751",
     "exception": false,
     "start_time": "2024-07-18T18:26:46.427621",
     "status": "completed"
    },
    "tags": []
   },
   "outputs": [
    {
     "data": {
      "text/html": [
       "<div>\n",
       "<style scoped>\n",
       "    .dataframe tbody tr th:only-of-type {\n",
       "        vertical-align: middle;\n",
       "    }\n",
       "\n",
       "    .dataframe tbody tr th {\n",
       "        vertical-align: top;\n",
       "    }\n",
       "\n",
       "    .dataframe thead th {\n",
       "        text-align: right;\n",
       "    }\n",
       "</style>\n",
       "<table border=\"1\" class=\"dataframe\">\n",
       "  <thead>\n",
       "    <tr style=\"text-align: right;\">\n",
       "      <th></th>\n",
       "      <th>0</th>\n",
       "      <th>1</th>\n",
       "      <th>2</th>\n",
       "      <th>3</th>\n",
       "      <th>4</th>\n",
       "      <th>5</th>\n",
       "      <th>6</th>\n",
       "      <th>7</th>\n",
       "      <th>8</th>\n",
       "      <th>9</th>\n",
       "      <th>10</th>\n",
       "      <th>11</th>\n",
       "      <th>12</th>\n",
       "      <th>13</th>\n",
       "      <th>14</th>\n",
       "      <th>15</th>\n",
       "    </tr>\n",
       "  </thead>\n",
       "  <tbody>\n",
       "    <tr>\n",
       "      <th>nObjects</th>\n",
       "      <td>150000</td>\n",
       "      <td>27104</td>\n",
       "      <td>7674</td>\n",
       "      <td>2954</td>\n",
       "      <td>1622</td>\n",
       "      <td>925</td>\n",
       "      <td>657</td>\n",
       "      <td>406</td>\n",
       "      <td>318</td>\n",
       "      <td>243</td>\n",
       "      <td>168</td>\n",
       "      <td>144</td>\n",
       "      <td>124</td>\n",
       "      <td>75</td>\n",
       "      <td>76</td>\n",
       "      <td>66</td>\n",
       "    </tr>\n",
       "    <tr>\n",
       "      <th>Area</th>\n",
       "      <td>0</td>\n",
       "      <td>65613868</td>\n",
       "      <td>26512649</td>\n",
       "      <td>12121034</td>\n",
       "      <td>7189721</td>\n",
       "      <td>4366249</td>\n",
       "      <td>3214644</td>\n",
       "      <td>2280847</td>\n",
       "      <td>1957149</td>\n",
       "      <td>1219387</td>\n",
       "      <td>1020741</td>\n",
       "      <td>728213</td>\n",
       "      <td>670510</td>\n",
       "      <td>371087</td>\n",
       "      <td>513120</td>\n",
       "      <td>313628</td>\n",
       "    </tr>\n",
       "    <tr>\n",
       "      <th>avgArea</th>\n",
       "      <td>0</td>\n",
       "      <td>2420</td>\n",
       "      <td>3454</td>\n",
       "      <td>4103</td>\n",
       "      <td>4432</td>\n",
       "      <td>4720</td>\n",
       "      <td>4892</td>\n",
       "      <td>5617</td>\n",
       "      <td>6154</td>\n",
       "      <td>5018</td>\n",
       "      <td>6075</td>\n",
       "      <td>5057</td>\n",
       "      <td>5407</td>\n",
       "      <td>4947</td>\n",
       "      <td>6751</td>\n",
       "      <td>4751</td>\n",
       "    </tr>\n",
       "  </tbody>\n",
       "</table>\n",
       "</div>"
      ],
      "text/plain": [
       "              0         1         2         3        4        5        6   \\\n",
       "nObjects  150000     27104      7674      2954     1622      925      657   \n",
       "Area           0  65613868  26512649  12121034  7189721  4366249  3214644   \n",
       "avgArea        0      2420      3454      4103     4432     4720     4892   \n",
       "\n",
       "               7        8        9        10      11      12      13      14  \\\n",
       "nObjects      406      318      243      168     144     124      75      76   \n",
       "Area      2280847  1957149  1219387  1020741  728213  670510  371087  513120   \n",
       "avgArea      5617     6154     5018     6075    5057    5407    4947    6751   \n",
       "\n",
       "              15  \n",
       "nObjects      66  \n",
       "Area      313628  \n",
       "avgArea     4751  "
      ]
     },
     "execution_count": 20,
     "metadata": {},
     "output_type": "execute_result"
    }
   ],
   "source": [
    "# group images by ship count, \n",
    "\n",
    "ship_stats_by_counts = ship_stats_by_id\\\n",
    "    .groupby('nObjects', as_index=False)\\\n",
    "    .agg({'nObjects': 'count', 'Area': 'sum'})\n",
    "\n",
    "ship_stats_by_counts['avgArea'] = (ship_stats_by_counts['Area'] / ship_stats_by_counts['nObjects'])\n",
    "\n",
    "ship_stats_by_counts.T.astype(int)"
   ]
  },
  {
   "cell_type": "code",
   "execution_count": 21,
   "id": "f8ae401d",
   "metadata": {
    "execution": {
     "iopub.execute_input": "2024-07-18T18:26:46.504613Z",
     "iopub.status.busy": "2024-07-18T18:26:46.504174Z",
     "iopub.status.idle": "2024-07-18T18:26:47.029402Z",
     "shell.execute_reply": "2024-07-18T18:26:47.028121Z"
    },
    "papermill": {
     "duration": 0.544314,
     "end_time": "2024-07-18T18:26:47.032292",
     "exception": false,
     "start_time": "2024-07-18T18:26:46.487978",
     "status": "completed"
    },
    "tags": []
   },
   "outputs": [
    {
     "data": {
      "image/png": "[encoded data removed]",
      "text/plain": [
       "<Figure size 1000x400 with 1 Axes>"
      ]
     },
     "metadata": {},
     "output_type": "display_data"
    }
   ],
   "source": [
    "plt.figure(figsize=(10, 4))\n",
    "sns.barplot(x=ship_stats_by_counts.index, y='avgArea', data=ship_stats_by_counts, palette='Blues_d')\n",
    "plt.xlabel('Number of Ships')\n",
    "plt.ylabel('Average Area')\n",
    "plt.title('Segmented area by Number of Ships per Image')\n",
    "plt.xticks(rotation=45)\n",
    "plt.show()"
   ]
  },
  {
   "cell_type": "code",
   "execution_count": null,
   "id": "25964064",
   "metadata": {
    "papermill": {
     "duration": 0.014815,
     "end_time": "2024-07-18T18:26:47.062198",
     "exception": false,
     "start_time": "2024-07-18T18:26:47.047383",
     "status": "completed"
    },
    "tags": []
   },
   "outputs": [],
   "source": []
  }
 ],
 "metadata": {
  "kaggle": {
   "accelerator": "none",
   "dataSources": [
    {
     "databundleVersionId": 868324,
     "sourceId": 9988,
     "sourceType": "competition"
    }
   ],
   "dockerImageVersionId": 30746,
   "isGpuEnabled": false,
   "isInternetEnabled": true,
   "language": "python",
   "sourceType": "notebook"
  },
  "kernelspec": {
   "display_name": "Python 3",
   "language": "python",
   "name": "python3"
  },
  "language_info": {
   "codemirror_mode": {
    "name": "ipython",
    "version": 3
   },
   "file_extension": ".py",
   "mimetype": "text/x-python",
   "name": "python",
   "nbconvert_exporter": "python",
   "pygments_lexer": "ipython3",
   "version": "3.10.13"
  },
  "papermill": {
   "default_parameters": {},
   "duration": 113.015467,
   "end_time": "2024-07-18T18:26:47.801075",
   "environment_variables": {},
   "exception": null,
   "input_path": "__notebook__.ipynb",
   "output_path": "__notebook__.ipynb",
   "parameters": {},
   "start_time": "2024-07-18T18:24:54.785608",
   "version": "2.5.0"
  }
 },
 "nbformat": 4,
 "nbformat_minor": 5
}
